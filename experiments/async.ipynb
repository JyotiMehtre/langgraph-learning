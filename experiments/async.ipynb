{
 "cells": [
  {
   "cell_type": "code",
   "execution_count": 36,
   "id": "744c9cb3",
   "metadata": {},
   "outputs": [],
   "source": [
    "import time\n",
    "def get_data_from_a():\n",
    "    print(\"Getting data from a\")\n",
    "    time.sleep(5)\n",
    "    print(\"Completed reciveing data from a\")\n",
    "\n",
    "def get_data_from_b():\n",
    "    print(\"get_data_from_b\")\n",
    "    time.sleep(3)\n",
    "    print(\"Completed reciveing data from b\")\n"
   ]
  },
  {
   "cell_type": "code",
   "execution_count": 37,
   "id": "555dbcc2",
   "metadata": {},
   "outputs": [
    {
     "name": "stdout",
     "output_type": "stream",
     "text": [
      "Getting data from a\n",
      "Completed reciveing data from a\n",
      "get_data_from_b\n",
      "Completed reciveing data from b\n"
     ]
    }
   ],
   "source": [
    "def main():\n",
    "    get_data_from_a()\n",
    "    get_data_from_b()\n",
    "\n",
    "main()"
   ]
  },
  {
   "cell_type": "code",
   "execution_count": 38,
   "id": "8aae7803",
   "metadata": {},
   "outputs": [],
   "source": [
    "def get_even_numbers(start=1, stop=10):\n",
    "    even_numbers = []\n",
    "    for index in range(start, stop):\n",
    "        if index % 2 == 0:\n",
    "            even_numbers.append(index)\n",
    "    return even_numbers"
   ]
  },
  {
   "cell_type": "code",
   "execution_count": 39,
   "id": "b5e88a9f",
   "metadata": {},
   "outputs": [
    {
     "data": {
      "text/plain": [
       "[2, 4, 6, 8]"
      ]
     },
     "execution_count": 39,
     "metadata": {},
     "output_type": "execute_result"
    }
   ],
   "source": [
    "get_even_numbers()"
   ]
  },
  {
   "cell_type": "code",
   "execution_count": 40,
   "id": "70ae7070",
   "metadata": {},
   "outputs": [],
   "source": [
    "def get_even_numbers_genertor(start=1, stop=100):\n",
    "    for index in range(start, stop):\n",
    "        if index % 2 == 0:\n",
    "            yield index"
   ]
  },
  {
   "cell_type": "code",
   "execution_count": 41,
   "id": "8ab3e779",
   "metadata": {},
   "outputs": [
    {
     "name": "stdout",
     "output_type": "stream",
     "text": [
      "2\n",
      "4\n",
      "6\n",
      "8\n"
     ]
    }
   ],
   "source": [
    "for number in get_even_numbers_genertor(1,10):\n",
    "    print(number)"
   ]
  },
  {
   "cell_type": "code",
   "execution_count": 45,
   "id": "e7d933ae",
   "metadata": {},
   "outputs": [],
   "source": [
    "#coroutine\n",
    "import asyncio\n",
    "async def get_data_from_a():\n",
    "    print(\"Getting data from a\")\n",
    "    time.sleep(5)\n",
    "    print(\"Completed reciveing data from a\")\n",
    "\n",
    "\n",
    "async def get_data_from_b():\n",
    "    print(\"Getting data from b\")\n",
    "    time.sleep(2)\n",
    "    print(\"Completed reciveing data from b\")"
   ]
  },
  {
   "cell_type": "code",
   "execution_count": 46,
   "id": "287894a1",
   "metadata": {},
   "outputs": [
    {
     "name": "stdout",
     "output_type": "stream",
     "text": [
      "Getting data from a\n",
      "Completed reciveing data from a\n",
      "Getting data from b\n",
      "Completed reciveing data from b\n"
     ]
    }
   ],
   "source": [
    "await get_data_from_a()\n",
    "await get_data_from_b()\n"
   ]
  },
  {
   "cell_type": "code",
   "execution_count": 79,
   "id": "65f4be94",
   "metadata": {},
   "outputs": [],
   "source": [
    "import asyncio\n",
    "async def aget_data_from_a():\n",
    "    print(\"getting data from a\")\n",
    "    await asyncio.sleep(5)\n",
    "    print(\"recieved data from a\")\n",
    "\n",
    "async def aget_data_from_b():\n",
    "    print(\"getting data from b\")\n",
    "    await asyncio.sleep(2)\n",
    "    print(\"recieved data from b\")"
   ]
  },
  {
   "cell_type": "code",
   "execution_count": 82,
   "id": "9dfa9a04",
   "metadata": {},
   "outputs": [
    {
     "name": "stderr",
     "output_type": "stream",
     "text": [
      "C:\\Users\\jyoti\\AppData\\Local\\Temp\\ipykernel_20976\\2347331404.py:1: RuntimeWarning: coroutine 'aget_data_from_a' was never awaited\n",
      "  test = get_data_from_a()\n",
      "RuntimeWarning: Enable tracemalloc to get the object allocation traceback\n"
     ]
    },
    {
     "data": {
      "text/plain": [
       "coroutine"
      ]
     },
     "execution_count": 82,
     "metadata": {},
     "output_type": "execute_result"
    }
   ],
   "source": [
    "test = get_data_from_a()\n",
    "# function is getting called\n",
    "type(test)\n"
   ]
  },
  {
   "cell_type": "code",
   "execution_count": 81,
   "id": "c4cf98ff",
   "metadata": {},
   "outputs": [
    {
     "name": "stderr",
     "output_type": "stream",
     "text": [
      "C:\\Users\\jyoti\\AppData\\Local\\Temp\\ipykernel_20976\\16202591.py:1: RuntimeWarning: coroutine 'aget_data_from_a' was never awaited\n",
      "  test = aget_data_from_a()\n",
      "RuntimeWarning: Enable tracemalloc to get the object allocation traceback\n"
     ]
    },
    {
     "data": {
      "text/plain": [
       "coroutine"
      ]
     },
     "execution_count": 81,
     "metadata": {},
     "output_type": "execute_result"
    }
   ],
   "source": [
    "test = aget_data_from_a()\n",
    "type(test)"
   ]
  },
  {
   "cell_type": "code",
   "execution_count": 80,
   "id": "6a5d1eb0",
   "metadata": {},
   "outputs": [
    {
     "name": "stdout",
     "output_type": "stream",
     "text": [
      "getting data from a\n",
      "recieved data from a\n",
      "getting data from b\n",
      "recieved data from b\n"
     ]
    }
   ],
   "source": [
    "# calling a coroutine\n",
    "# option 1\n",
    "await aget_data_from_a()\n",
    "await aget_data_from_b()"
   ]
  },
  {
   "cell_type": "code",
   "execution_count": 8,
   "id": "37f95feb",
   "metadata": {},
   "outputs": [
    {
     "name": "stdout",
     "output_type": "stream",
     "text": [
      "status: 200, Reason: OK\n",
      "<!doctype html>\n",
      "<html>\n",
      "<head>\n",
      "    <title>Example Domain</title>\n",
      "\n",
      "    <meta charset=\"utf-8\" />\n",
      "    <meta http-equiv=\"Content-type\" content=\"text/html; charset=utf-8\" />\n",
      "    <meta name=\"viewport\" conten\n"
     ]
    }
   ],
   "source": [
    "import http.client\n",
    "\n",
    "try:\n",
    "   conn = http.client.HTTPSConnection(\"www.example.com\")\n",
    "   conn.request(\"GET\", \"/\")\n",
    "   response = conn.getresponse()\n",
    "   print(f\"status: {response.status}, Reason: {response.reason}\")\n",
    "   data = response.read().decode(\"utf-8\") \n",
    "   print(data[:200]) # print first 200 character of the response\n",
    "except Exception as e:\n",
    "   print(f\"An error accurred: {e}\")\n",
    "finally:\n",
    "   if 'conn' in locals() and conn:\n",
    "      conn.close()\n",
    "\n"
   ]
  },
  {
   "cell_type": "code",
   "execution_count": 9,
   "id": "850d6c30",
   "metadata": {},
   "outputs": [
    {
     "name": "stdout",
     "output_type": "stream",
     "text": [
      "status: 200\n",
      "content-type: text/html; charset=utf-8\n",
      "body: <!doctype html> ...\n"
     ]
    }
   ],
   "source": [
    "import aiohttp\n",
    "\n",
    "async def make_http_call():\n",
    "\n",
    "  #with statement to get http connection object\n",
    "  async with aiohttp.ClientSession() as session:\n",
    "      async with session.get('http://python.org') as response:\n",
    "         print(\"status:\", response.status)\n",
    "         print(\"content-type:\", response.headers['content-type'])\n",
    "\n",
    "         html = await response.text()\n",
    "         print(\"body:\", html[:15], \"...\")\n",
    "\n",
    "await make_http_call()"
   ]
  }
 ],
 "metadata": {
  "kernelspec": {
   "display_name": ".venv (3.11.9)",
   "language": "python",
   "name": "python3"
  },
  "language_info": {
   "codemirror_mode": {
    "name": "ipython",
    "version": 3
   },
   "file_extension": ".py",
   "mimetype": "text/x-python",
   "name": "python",
   "nbconvert_exporter": "python",
   "pygments_lexer": "ipython3",
   "version": "3.11.9"
  }
 },
 "nbformat": 4,
 "nbformat_minor": 5
}
