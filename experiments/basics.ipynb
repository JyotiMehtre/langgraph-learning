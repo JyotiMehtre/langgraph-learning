{
 "cells": [
  {
   "cell_type": "code",
   "execution_count": 1,
   "id": "12c2b84c",
   "metadata": {},
   "outputs": [],
   "source": [
    "x = 5\n",
    "y = \"hello\"\n",
    "z = True"
   ]
  },
  {
   "cell_type": "code",
   "execution_count": 2,
   "id": "6e99df7e",
   "metadata": {},
   "outputs": [
    {
     "data": {
      "text/plain": [
       "5"
      ]
     },
     "execution_count": 2,
     "metadata": {},
     "output_type": "execute_result"
    }
   ],
   "source": [
    "x. __hash__()"
   ]
  },
  {
   "cell_type": "code",
   "execution_count": 3,
   "id": "19792338",
   "metadata": {},
   "outputs": [
    {
     "data": {
      "text/plain": [
       "-8153433679347153873"
      ]
     },
     "execution_count": 3,
     "metadata": {},
     "output_type": "execute_result"
    }
   ],
   "source": [
    "y. __hash__()"
   ]
  },
  {
   "cell_type": "code",
   "execution_count": 4,
   "id": "0434d8c2",
   "metadata": {},
   "outputs": [
    {
     "data": {
      "text/plain": [
       "1"
      ]
     },
     "execution_count": 4,
     "metadata": {},
     "output_type": "execute_result"
    }
   ],
   "source": [
    "z. __hash__()"
   ]
  },
  {
   "cell_type": "code",
   "execution_count": 5,
   "id": "ebf931dc",
   "metadata": {},
   "outputs": [
    {
     "data": {
      "text/plain": [
       "'5'"
      ]
     },
     "execution_count": 5,
     "metadata": {},
     "output_type": "execute_result"
    }
   ],
   "source": [
    "x.__str__()"
   ]
  },
  {
   "cell_type": "code",
   "execution_count": 2,
   "id": "e03d54c4",
   "metadata": {},
   "outputs": [],
   "source": [
    "from langchain.chat_models import init_chat_model\n",
    "def get_llm(name,provider):\n",
    "    return init_chat_model(model=name,model_provider=provider)"
   ]
  },
  {
   "cell_type": "code",
   "execution_count": 3,
   "id": "71d68859",
   "metadata": {},
   "outputs": [],
   "source": [
    "def ask_llm(llm,question):\n",
    "    response = llm.invoke(question)\n",
    "    response.pretty_print()"
   ]
  },
  {
   "cell_type": "code",
   "execution_count": 4,
   "id": "1eaeee38",
   "metadata": {},
   "outputs": [],
   "source": [
    "model_name = \"gemini-2.0-flash-lite-001\"\n",
    "model_provider = \"google_vertexai\""
   ]
  },
  {
   "cell_type": "code",
   "execution_count": 5,
   "id": "cef8bd07",
   "metadata": {},
   "outputs": [],
   "source": [
    "gemini_llm = get_llm(model_name ,model_provider)"
   ]
  },
  {
   "cell_type": "code",
   "execution_count": 6,
   "id": "320e43f2",
   "metadata": {},
   "outputs": [],
   "source": [
    "from langchain_google_vertexai import ChatVertexAI\n",
    "\n",
    "gemini_llm = ChatVertexAI(model=\"gemini-2.0-flash-lite-001\")"
   ]
  },
  {
   "cell_type": "code",
   "execution_count": 7,
   "id": "9bcfe09f",
   "metadata": {},
   "outputs": [
    {
     "data": {
      "text/plain": [
       "langchain_google_vertexai.chat_models.ChatVertexAI"
      ]
     },
     "execution_count": 7,
     "metadata": {},
     "output_type": "execute_result"
    }
   ],
   "source": [
    "type(gemini_llm)"
   ]
  },
  {
   "cell_type": "code",
   "execution_count": 9,
   "id": "0673de1d",
   "metadata": {},
   "outputs": [],
   "source": [
    "response = gemini_llm.invoke(\"What is capital of france\")"
   ]
  },
  {
   "cell_type": "code",
   "execution_count": 10,
   "id": "0ae7fe67",
   "metadata": {},
   "outputs": [
    {
     "data": {
      "text/plain": [
       "langchain_core.messages.ai.AIMessage"
      ]
     },
     "execution_count": 10,
     "metadata": {},
     "output_type": "execute_result"
    }
   ],
   "source": [
    "type(response)"
   ]
  },
  {
   "cell_type": "code",
   "execution_count": 11,
   "id": "1f1d2613",
   "metadata": {},
   "outputs": [],
   "source": [
    "from langchain_core.messages import SystemMessage,HumanMessage,AIMessage"
   ]
  },
  {
   "cell_type": "code",
   "execution_count": 16,
   "id": "7060fa91",
   "metadata": {},
   "outputs": [],
   "source": [
    "# few shot prompt\n",
    "\n",
    "messages = [\n",
    "    SystemMessage(content=\"You are an expert in mathematics\"),\n",
    "    HumanMessage(content=\"I have 2 pens now i bought 2 more. What is total number of pens?\"),\n",
    "    AIMessage(content=\"This refers to addition. 2 + 2 = 4 \"),\n",
    "    HumanMessage(content=\"I have 10 pens now i lost 2. What is total number of pens?\"),\n",
    "    AIMessage(content=\"This refers to subtraction. 10 - 2 = 8 \"),\n",
    "    HumanMessage(content=\"I have 10 bikes i sold one, How many bikes do i have left ?\")\n",
    "\n",
    "]"
   ]
  },
  {
   "cell_type": "code",
   "execution_count": 17,
   "id": "0bfae89b",
   "metadata": {},
   "outputs": [],
   "source": [
    "response = gemini_llm.invoke(messages)"
   ]
  },
  {
   "cell_type": "code",
   "execution_count": 18,
   "id": "126b7754",
   "metadata": {},
   "outputs": [
    {
     "data": {
      "text/plain": [
       "AIMessage(content='This is a subtraction problem. You started with 10 bikes and sold 1, so you have 10 - 1 = 9 bikes left.\\n', additional_kwargs={}, response_metadata={'is_blocked': False, 'safety_ratings': [], 'usage_metadata': {'prompt_token_count': 91, 'candidates_token_count': 34, 'total_token_count': 125, 'cached_content_token_count': 0}, 'finish_reason': 'STOP', 'avg_logprobs': -0.05392186080708223}, id='run--08782631-1b0a-4cfd-a523-e7abb5ac8eff-0', usage_metadata={'input_tokens': 91, 'output_tokens': 34, 'total_tokens': 125})"
      ]
     },
     "execution_count": 18,
     "metadata": {},
     "output_type": "execute_result"
    }
   ],
   "source": [
    "response"
   ]
  },
  {
   "cell_type": "code",
   "execution_count": 19,
   "id": "eba71bbe",
   "metadata": {},
   "outputs": [
    {
     "name": "stdout",
     "output_type": "stream",
     "text": [
      "==================================\u001b[1m Ai Message \u001b[0m==================================\n",
      "\n",
      "This is a subtraction problem. You started with 10 bikes and sold 1, so you have 10 - 1 = 9 bikes left.\n"
     ]
    }
   ],
   "source": [
    "response.pretty_print()"
   ]
  }
 ],
 "metadata": {
  "kernelspec": {
   "display_name": ".venv (3.11.9)",
   "language": "python",
   "name": "python3"
  },
  "language_info": {
   "codemirror_mode": {
    "name": "ipython",
    "version": 3
   },
   "file_extension": ".py",
   "mimetype": "text/x-python",
   "name": "python",
   "nbconvert_exporter": "python",
   "pygments_lexer": "ipython3",
   "version": "3.11.9"
  }
 },
 "nbformat": 4,
 "nbformat_minor": 5
}
