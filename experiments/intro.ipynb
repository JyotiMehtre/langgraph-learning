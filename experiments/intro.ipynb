{
 "cells": [
  {
   "cell_type": "code",
   "execution_count": 3,
   "id": "16dcd81b",
   "metadata": {},
   "outputs": [],
   "source": [
    "from langchain.chat_models import init_chat_model"
   ]
  },
  {
   "cell_type": "code",
   "execution_count": 4,
   "id": "78e75926",
   "metadata": {},
   "outputs": [],
   "source": [
    "MODEL_ID=\"gemini-2.0-flash-lite-001\"\n",
    "model_provider = \"google_vertexai\"\n",
    "##from langchain_google_vertexai import ChatVertexAI\n",
    "\n",
    "##llms = ChatVertexAI(\n",
    "##    model_name=\"gemini-2.0-flash-lite-001\",  # or any valid model\n",
    "##    temperature=0.7,\n",
    "##    project=\"neural-cathode-466805-i3\",\n",
    "##    location=\"us-central1\"  # adjust based on your region\n",
    "##)\n"
   ]
  },
  {
   "cell_type": "code",
   "execution_count": 5,
   "id": "b917b230",
   "metadata": {},
   "outputs": [],
   "source": [
    "llm = init_chat_model(model=MODEL_ID,model_provider=model_provider)"
   ]
  },
  {
   "cell_type": "code",
   "execution_count": 6,
   "id": "b3551b24",
   "metadata": {},
   "outputs": [
    {
     "name": "stdout",
     "output_type": "stream",
     "text": [
      "==================================\u001b[1m Ai Message \u001b[0m==================================\n",
      "\n",
      "The capital of Telangana is **Hyderabad**.\n"
     ]
    }
   ],
   "source": [
    "response = llm.invoke(\"What is capital of Telangana?\")\n",
    "response.pretty_print()"
   ]
  },
  {
   "cell_type": "code",
   "execution_count": 12,
   "id": "a73a624c",
   "metadata": {},
   "outputs": [
    {
     "name": "stdout",
     "output_type": "stream",
     "text": [
      "==================================\u001b[1m Ai Message \u001b[0m==================================\n",
      "\n",
      "The capital of Telangana is **Hyderabad**.\n"
     ]
    }
   ],
   "source": [
    "model_name = \"gemini-2.5-flash\"\n",
    "model_provider = \"google_vertexai\"\n",
    "llm = init_chat_model(model=model_name,model_provider=model_provider)\n",
    "response = llm.invoke(\"What is capital of Telangana?\")\n",
    "response.pretty_print()"
   ]
  },
  {
   "cell_type": "code",
   "execution_count": 7,
   "id": "f8d8ddf5",
   "metadata": {},
   "outputs": [
    {
     "name": "stdout",
     "output_type": "stream",
     "text": [
      "==================================\u001b[1m Ai Message \u001b[0m==================================\n",
      "\n",
      "The capital of India is **New Delhi**.\n"
     ]
    }
   ],
   "source": [
    "model_name = \"gemini-2.0-flash-001\"\n",
    "model_provider = \"google_vertexai\"\n",
    "llm = init_chat_model(model=model_name,model_provider=model_provider)\n",
    "response = llm.invoke(\"what is the capital of india?\")\n",
    "response.pretty_print()"
   ]
  },
  {
   "cell_type": "code",
   "execution_count": 8,
   "id": "1c9d9235",
   "metadata": {},
   "outputs": [],
   "source": [
    "def get_llm(name,provider):\n",
    "    return init_chat_model(model=name,model_provider=provider)"
   ]
  },
  {
   "cell_type": "code",
   "execution_count": 9,
   "id": "ec111e16",
   "metadata": {},
   "outputs": [],
   "source": [
    "def ask_llm(llm,question):\n",
    "    response=llm.invoke(question)\n",
    "    response.pretty_print()"
   ]
  },
  {
   "cell_type": "code",
   "execution_count": 11,
   "id": "83fd7827",
   "metadata": {},
   "outputs": [
    {
     "name": "stdout",
     "output_type": "stream",
     "text": [
      "==================================\u001b[1m Ai Message \u001b[0m==================================\n",
      "\n",
      "Here are the colors of the rainbow, in order:\n",
      "\n",
      "*   **Red**\n",
      "*   **Orange**\n",
      "*   **Yellow**\n",
      "*   **Green**\n",
      "*   **Blue**\n",
      "*   **Indigo**\n",
      "*   **Violet**\n"
     ]
    }
   ],
   "source": [
    "#google_vertexai\n",
    "\n",
    "google_vertexai_llm = get_llm(\"gemini-2.0-flash-lite-001\",\"google_vertexai\")\n",
    "ask_llm(google_vertexai_llm,\"list me color in rainbow\")"
   ]
  },
  {
   "cell_type": "code",
   "execution_count": 12,
   "id": "10389450",
   "metadata": {},
   "outputs": [
    {
     "name": "stdout",
     "output_type": "stream",
     "text": [
      "==================================\u001b[1m Ai Message \u001b[0m==================================\n",
      "\n",
      "This is a great question that has two common answers, depending on how you define \"tree\" and \"living\":\n",
      "\n",
      "1.  **The Oldest Non-Clonal (Individual) Tree:**\n",
      "    The oldest *known and verified* individual tree (meaning a single, non-cloning organism) is **Methuselah**, a **Great Basin Bristlecone Pine** (*Pinus longaeva*).\n",
      "\n",
      "    *   **Age:** Approximately **4,856 years old** (as of 2024).\n",
      "    *   **Location:** White Mountains of California, USA, in the Ancient Bristlecone Pine Forest. Its exact location is kept secret to protect it.\n",
      "    *   **Note:** There might be an even older, unnamed Bristlecone Pine in the same grove, but Methuselah is the one that was precisely dated and widely recognized. Another famous bristlecone, \"Prometheus,\" was unfortunately cut down in 1964 and found to be even older at 4,900 years at the time.\n",
      "\n",
      "2.  **The Oldest Clonal Organism (Plant Colony):**\n",
      "    If you consider a \"plant\" to be a genetic individual that has continuously regenerated over millennia, even if the visible stems or trunks are much younger, then the oldest organisms are clonal colonies.\n",
      "\n",
      "    *   **Pando (The Trembling Giant):** This is a massive clonal colony of a single male **Quaking Aspen** (*Populus tremuloides*).\n",
      "        *   **Age:** Estimated to be at least **14,000 years old**, and potentially much older, possibly up to **80,000 years old**.\n",
      "        *   **Location:** Fishlake National Forest, Utah, USA.\n",
      "        *   **Description:** It consists of over 47,000 genetically identical stems (trunks) connected by a single, massive underground root system. While individual stems rarely live more than 130 years, the entire organism has been alive for millennia. It's considered the most massive organism on Earth.\n",
      "\n",
      "    *   **Old Tjikko:** This is a **Norway Spruce** (*Picea abies*).\n",
      "        *   **Age:** Approximately **9,566 years old** (based on carbon dating of old root material beneath the current visible tree).\n",
      "        *   **Location:** Fulufjället Mountain, Sweden.\n",
      "        *   **Description:** The visible trunk is relatively young (only a few hundred years old), but its root system has been regenerating new trunks for nearly 10,000 years.\n",
      "\n",
      "    *   **King Clone:** This is a clonal ring of a **Creosote Bush** (*Larrea tridentata*).\n",
      "        *   **Age:** Estimated to be around **11,700 years old**.\n",
      "        *   **Location:** Mojave Desert, California, USA.\n",
      "        *   **Description:** It's a ring of individual creosote bush stems that have spread clonally from a single original plant.\n",
      "\n",
      "**In summary:**\n",
      "\n",
      "*   **For a single, individual tree (like you'd draw):** **Methuselah** (Bristlecone Pine).\n",
      "*   **For the oldest continuous living organism (clonal colony):** **Pando** (Quaking Aspen) or **Old Tjikko** (Norway Spruce) are strong contenders.\n"
     ]
    }
   ],
   "source": [
    "google_vertexai_llm = get_llm(\"gemini-2.5-flash\",\"google_vertexai\")\n",
    "ask_llm(google_vertexai_llm,\"What is the oldest living tree or plant in the world?\")"
   ]
  }
 ],
 "metadata": {
  "kernelspec": {
   "display_name": ".venv (3.11.9)",
   "language": "python",
   "name": "python3"
  },
  "language_info": {
   "codemirror_mode": {
    "name": "ipython",
    "version": 3
   },
   "file_extension": ".py",
   "mimetype": "text/x-python",
   "name": "python",
   "nbconvert_exporter": "python",
   "pygments_lexer": "ipython3",
   "version": "3.11.9"
  }
 },
 "nbformat": 4,
 "nbformat_minor": 5
}
